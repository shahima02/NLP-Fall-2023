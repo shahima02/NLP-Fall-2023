{
 "cells": [
  {
   "cell_type": "code",
   "execution_count": null,
   "id": "06e4c1f3",
   "metadata": {},
   "outputs": [],
   "source": [
    "pip install textblob"
   ]
  },
  {
   "cell_type": "code",
   "execution_count": null,
   "id": "3909f632",
   "metadata": {},
   "outputs": [],
   "source": [
    "import os\n",
    "from textblob import TextBlob\n",
    "\n",
    "def analyze_sentiment(text):\n",
    "    analysis = TextBlob(text)\n",
    "    return analysis.sentiment.polarity\n",
    "\n",
    "def get_sentiment_label(polarity): #sets the conditions for sentiment\n",
    "    if polarity > 0:\n",
    "        return 'Positive'\n",
    "    elif polarity < 0:\n",
    "        return 'Negative'\n",
    "    else:\n",
    "        return 'Neutral'\n",
    "    \n",
    "def analyze_folder(folder_path): #sets default values to 0\n",
    "    total_polarity = 0\n",
    "    total_files = 0\n",
    "    positive_count = 0\n",
    "    negative_count = 0\n",
    "\n",
    "    for file_name in os.listdir(folder_path): #gets txt files from folder\n",
    "        if file_name.endswith('.txt'):\n",
    "            file_path = os.path.join(folder_path, file_name)\n",
    "            with open(file_path, 'r', encoding='utf-8') as file:\n",
    "                text = file.read()\n",
    "                polarity = analyze_sentiment(text)\n",
    "                total_polarity += polarity\n",
    "                total_files += 1\n",
    "                sentiment_label = get_sentiment_label(polarity)\n",
    "                \n",
    "                if sentiment_label == 'Positive':\n",
    "                    positive_count += 1\n",
    "                elif sentiment_label == 'Negative':\n",
    "                    negative_count += 1\n",
    "\n",
    "    if total_files > 0: #needs at least one file\n",
    "        average_polarity = total_polarity / total_files\n",
    "        average_sentiment = get_sentiment_label(average_polarity)\n",
    "        print(f\"Average Polarity for the entire folder: {average_polarity}, Average Sentiment: {average_sentiment}\\n\")\n",
    "        print(f\"\\nPositive Sentiments Count: {positive_count}\")\n",
    "        print(f\"Negative Sentiments Count: {negative_count}\\n\")\n",
    "        \n",
    "        for file_name in os.listdir(folder_path): #optional, prints sentiment values for each txt file\n",
    "            if file_name.endswith('.txt'):\n",
    "                file_path = os.path.join(folder_path, file_name)\n",
    "                with open(file_path, 'r', encoding='utf-8') as file:\n",
    "                    text = file.read()\n",
    "                    polarity = analyze_sentiment(text)\n",
    "                    sentiment_label = get_sentiment_label(polarity)\n",
    "                    print(f\"File: {file_name}, Polarity: {polarity}, Sentiment: {sentiment_label}\")\n",
    "\n",
    "if __name__ == \"__main__\": #path to folder, replace as needed\n",
    "    folder_path = r\"path/to/your/folder\"\n",
    "    analyze_folder(folder_path)\n",
    "\n"
   ]
  }
 ],
 "metadata": {
  "kernelspec": {
   "display_name": "Python 3 (ipykernel)",
   "language": "python",
   "name": "python3"
  },
  "language_info": {
   "codemirror_mode": {
    "name": "ipython",
    "version": 3
   },
   "file_extension": ".py",
   "mimetype": "text/x-python",
   "name": "python",
   "nbconvert_exporter": "python",
   "pygments_lexer": "ipython3",
   "version": "3.11.5"
  }
 },
 "nbformat": 4,
 "nbformat_minor": 5
}
